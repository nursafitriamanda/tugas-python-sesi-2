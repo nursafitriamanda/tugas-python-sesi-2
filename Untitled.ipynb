{
 "cells": [
  {
   "cell_type": "code",
   "execution_count": 2,
   "id": "aa81bd02",
   "metadata": {},
   "outputs": [
    {
     "name": "stdout",
     "output_type": "stream",
     "text": [
      "nama anda  : amanda nursafitri\n",
      "kelas anda : ti 22h\n",
      "no hp anda : 085723847714\n"
     ]
    }
   ],
   "source": [
    "nama   = \"amanda nursafitri\"\n",
    "kelas  = \"ti 22h\"\n",
    "no_hp  = \"085723847714\"\n",
    "\n",
    "print(\"nama anda  :\", nama)\n",
    "print(\"kelas anda :\", kelas)\n",
    "print(\"no hp anda :\", no_hp)"
   ]
  }
 ],
 "metadata": {
  "kernelspec": {
   "display_name": "Python 3 (ipykernel)",
   "language": "python",
   "name": "python3"
  },
  "language_info": {
   "codemirror_mode": {
    "name": "ipython",
    "version": 3
   },
   "file_extension": ".py",
   "mimetype": "text/x-python",
   "name": "python",
   "nbconvert_exporter": "python",
   "pygments_lexer": "ipython3",
   "version": "3.9.12"
  }
 },
 "nbformat": 4,
 "nbformat_minor": 5
}
